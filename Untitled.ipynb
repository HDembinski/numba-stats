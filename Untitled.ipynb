{
 "cells": [
  {
   "cell_type": "code",
   "execution_count": 1,
   "id": "cf9536a8-ed06-47a4-9d8f-d11f757ed4e4",
   "metadata": {},
   "outputs": [],
   "source": [
    "from numba_stats.argus import pdf, logpdf, cdf\n",
    "import scipy.stats as sc\n",
    "import scipy.special as special\n",
    "import numpy as np\n",
    "import sympy as sp"
   ]
  },
  {
   "cell_type": "code",
   "execution_count": 2,
   "id": "e7d61f97-632d-4d7f-b16a-00af2650ea05",
   "metadata": {},
   "outputs": [],
   "source": [
    "chi, p, x, c = sp.symbols(r\"\\chi,p,x,c\")"
   ]
  },
  {
   "cell_type": "code",
   "execution_count": 3,
   "id": "c36a0202-b830-4e71-819a-00f3aaf0b6f4",
   "metadata": {},
   "outputs": [],
   "source": [
    "norm = 2 ** (-p) * chi**(2 * (p+1))/(sp.gamma(p+1) - sp.uppergamma(p+1, 1/2 * chi**2))\n",
    "f = norm * x / c**2 * (1 - x**2/c**2)**p * sp.exp(-1/2 * chi**2 *(1-x**2/c**2))"
   ]
  },
  {
   "cell_type": "code",
   "execution_count": 4,
   "id": "7d5f823b-3fdb-4009-b4bb-457dd5ba3978",
   "metadata": {},
   "outputs": [],
   "source": [
    "phi = sp.exp(-chi**2/2) * 1/sp.sqrt(2 * sp.pi)\n",
    "Phi = sp.integrate(1/sp.sqrt(2*sp.pi)*sp.exp(-x**2/2),(x, -sp.oo, chi))\n",
    "\n",
    "psi = Phi - chi * phi - 1/2\n",
    "f_new = chi**3/sp.sqrt(2 * sp.pi)/psi * x/c**2 * sp.sqrt(1-x**2/c**2) * sp.exp(-1/2 * chi**2 * (1-x**2/c**2))"
   ]
  },
  {
   "cell_type": "code",
   "execution_count": 5,
   "id": "553b721a-40fd-4955-96fe-b985faed3770",
   "metadata": {},
   "outputs": [],
   "source": [
    "c_n = 1\n",
    "p_n = 0.5\n",
    "chi_n = 0.1\n",
    "x_n = np.linspace(0, 1, 10)"
   ]
  },
  {
   "cell_type": "code",
   "execution_count": 7,
   "id": "db33541b-0826-455a-84dd-5dd0274010e9",
   "metadata": {},
   "outputs": [],
   "source": [
    "f_new_val = f_new.subs({c:c_n, chi:chi_n, x:x_n[3]}).simplify().evalf()\n",
    "f_val = f.subs({p:p_n, c:c_n, chi:chi_n, x:x_n[3]}).simplify()\n",
    "got = pdf(x_n[3], chi_n, c_n, p_n)\n",
    "expected = sc.argus.pdf(x_n[3], chi_n)"
   ]
  },
  {
   "cell_type": "code",
   "execution_count": 7,
   "id": "bdbd2337-4053-4fa1-8304-afe0b81ea36f",
   "metadata": {},
   "outputs": [
    {
     "data": {
      "text/plain": [
       "(array(0.16166827), np.float64(0.1616682720456052))"
      ]
     },
     "execution_count": 7,
     "metadata": {},
     "output_type": "execute_result"
    }
   ],
   "source": [
    "got = cdf(x_n[3], chi_n, c_n, p_n)\n",
    "expected = sc.argus.cdf(x_n[3], chi_n)\n",
    "got, expected"
   ]
  },
  {
   "cell_type": "code",
   "execution_count": 8,
   "id": "362452cb-4689-4e93-bcf3-1e3e3eab9491",
   "metadata": {},
   "outputs": [
    {
     "data": {
      "text/latex": [
       "$\\displaystyle 0.941447382299489$"
      ],
      "text/plain": [
       "0.941447382299489"
      ]
     },
     "execution_count": 8,
     "metadata": {},
     "output_type": "execute_result"
    }
   ],
   "source": [
    "f_val"
   ]
  },
  {
   "cell_type": "code",
   "execution_count": 9,
   "id": "bede0977-83e3-4d7b-b897-1f8c8d2a7e1e",
   "metadata": {},
   "outputs": [
    {
     "data": {
      "text/latex": [
       "$\\displaystyle 0.941447382299395$"
      ],
      "text/plain": [
       "0.941447382299395"
      ]
     },
     "execution_count": 9,
     "metadata": {},
     "output_type": "execute_result"
    }
   ],
   "source": [
    "f_new_val"
   ]
  },
  {
   "cell_type": "code",
   "execution_count": 10,
   "id": "ba47edd2-8ccd-4029-b975-5cf112057c18",
   "metadata": {},
   "outputs": [
    {
     "data": {
      "text/plain": [
       "np.float64(0.9414473822994093)"
      ]
     },
     "execution_count": 10,
     "metadata": {},
     "output_type": "execute_result"
    }
   ],
   "source": [
    "expected"
   ]
  },
  {
   "cell_type": "code",
   "execution_count": 11,
   "id": "9160fac4-4c87-4f85-be6f-faaf4e13ea91",
   "metadata": {},
   "outputs": [
    {
     "data": {
      "text/plain": [
       "array(0.94144738)"
      ]
     },
     "execution_count": 11,
     "metadata": {},
     "output_type": "execute_result"
    }
   ],
   "source": [
    "got"
   ]
  },
  {
   "cell_type": "code",
   "execution_count": 12,
   "id": "faaaf67a-9dac-4d24-9e0c-1e740f020dca",
   "metadata": {},
   "outputs": [],
   "source": [
    "f_log = sp.expand_log(sp.log(f), force=True)"
   ]
  },
  {
   "cell_type": "code",
   "execution_count": 13,
   "id": "b751485d-190c-4db1-b7db-17431a3b6ac9",
   "metadata": {},
   "outputs": [
    {
     "data": {
      "text/latex": [
       "$\\displaystyle -0.0603368195422752$"
      ],
      "text/plain": [
       "-0.0603368195422752"
      ]
     },
     "execution_count": 13,
     "metadata": {},
     "output_type": "execute_result"
    }
   ],
   "source": [
    "f_log.subs({p:p_n, c:c_n, chi:chi_n, x:x_n[3]}).simplify()"
   ]
  },
  {
   "cell_type": "code",
   "execution_count": 14,
   "id": "c9055d7f-d296-42e6-a538-5b3de64a7610",
   "metadata": {},
   "outputs": [
    {
     "data": {
      "text/plain": [
       "array(-0.06033682)"
      ]
     },
     "execution_count": 14,
     "metadata": {},
     "output_type": "execute_result"
    }
   ],
   "source": [
    "logpdf(x_n[3], chi_n, c_n, p_n)"
   ]
  },
  {
   "cell_type": "code",
   "execution_count": 15,
   "id": "a9cfc2d2-28cf-4b30-a846-2b6dda42a59e",
   "metadata": {},
   "outputs": [
    {
     "data": {
      "text/plain": [
       "np.float64(-0.06033681954236037)"
      ]
     },
     "execution_count": 15,
     "metadata": {},
     "output_type": "execute_result"
    }
   ],
   "source": [
    "sc.argus.logpdf(x_n[3], chi_n)"
   ]
  },
  {
   "cell_type": "code",
   "execution_count": 16,
   "id": "9fedd715-f0b6-4bdb-a893-dbfb01fc7332",
   "metadata": {},
   "outputs": [
    {
     "data": {
      "text/latex": [
       "$\\displaystyle - 0.5 \\chi^{2} \\left(1 - \\frac{x^{2}}{c^{2}}\\right) + p \\log{\\left(1 - \\frac{x^{2}}{c^{2}} \\right)} - p \\log{\\left(2 \\right)} + \\left(2 p + 2\\right) \\log{\\left(\\chi \\right)} - 2 \\log{\\left(c \\right)} + \\log{\\left(x \\right)} - \\log{\\left(\\Gamma\\left(p + 1\\right) - \\Gamma\\left(p + 1, 0.5 \\chi^{2}\\right) \\right)}$"
      ],
      "text/plain": [
       "-0.5*\\chi**2*(1 - x**2/c**2) + p*log(1 - x**2/c**2) - p*log(2) + (2*p + 2)*log(\\chi) - 2*log(c) + log(x) - log(gamma(p + 1) - uppergamma(p + 1, 0.5*\\chi**2))"
      ]
     },
     "execution_count": 16,
     "metadata": {},
     "output_type": "execute_result"
    }
   ],
   "source": [
    "f_log"
   ]
  },
  {
   "cell_type": "code",
   "execution_count": 17,
   "id": "d9fc90a1-564e-473f-a8b3-2982076c074c",
   "metadata": {},
   "outputs": [],
   "source": [
    "from math import gamma"
   ]
  },
  {
   "cell_type": "code",
   "execution_count": 18,
   "id": "40dcd51c-cecc-48f6-9bb1-b31dccba8dca",
   "metadata": {},
   "outputs": [
    {
     "data": {
      "text/plain": [
       "np.float64(0.885991929038088)"
      ]
     },
     "execution_count": 18,
     "metadata": {},
     "output_type": "execute_result"
    }
   ],
   "source": [
    "special.gammaincc(p_n+1, 0.5*chi_n**2) * gamma(p_n+1)"
   ]
  },
  {
   "cell_type": "code",
   "execution_count": 19,
   "id": "3cc51619-1307-47a0-a069-e461277bde5b",
   "metadata": {},
   "outputs": [
    {
     "data": {
      "text/latex": [
       "$\\displaystyle 0.885991929038088$"
      ],
      "text/plain": [
       "0.885991929038088"
      ]
     },
     "execution_count": 19,
     "metadata": {},
     "output_type": "execute_result"
    }
   ],
   "source": [
    "sp.uppergamma(p_n+1, 0.5*chi_n**2)"
   ]
  },
  {
   "cell_type": "code",
   "execution_count": null,
   "id": "a4e1062e-560c-4242-8765-50a577fbfe42",
   "metadata": {},
   "outputs": [],
   "source": []
  }
 ],
 "metadata": {
  "kernelspec": {
   "display_name": "Python 3 (ipykernel)",
   "language": "python",
   "name": "python3"
  },
  "language_info": {
   "codemirror_mode": {
    "name": "ipython",
    "version": 3
   },
   "file_extension": ".py",
   "mimetype": "text/x-python",
   "name": "python",
   "nbconvert_exporter": "python",
   "pygments_lexer": "ipython3",
   "version": "3.12.5"
  }
 },
 "nbformat": 4,
 "nbformat_minor": 5
}
