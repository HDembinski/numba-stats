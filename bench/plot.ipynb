{
 "cells": [
  {
   "cell_type": "code",
   "execution_count": null,
   "metadata": {},
   "outputs": [],
   "source": [
    "import matplotlib.pyplot as plt\n",
    "import numpy as np\n",
    "import json\n",
    "from pathlib import Path\n",
    "\n",
    "fn = sorted((Path(\"..\") / \".benchmarks\").rglob(\"*.json\"))[-1]\n",
    "\n",
    "with open(fn) as f:\n",
    "    data = json.load(f)\n",
    "\n",
    "cpu_brand = data[\"machine_info\"][\"cpu\"][\"brand_raw\"]\n",
    "\n",
    "results = {}\n",
    "for b in data[\"benchmarks\"]:\n",
    "    name = b[\"name\"]\n",
    "    params = b[\"params\"]\n",
    "    n = params[\"n\"]\n",
    "    n = int(n)\n",
    "    lib = params[\"lib\"]\n",
    "    if name.startswith(\"test_speed[\"):\n",
    "        kind = params[\"kind\"]\n",
    "    else:\n",
    "        kind = \".\".join(name.split(\"[\")[0].split(\"_\")[2:])\n",
    "    t = b[\"stats\"][\"min\"]\n",
    "    results.setdefault(kind, {}).setdefault(lib, []).append((n, t))\n",
    "\n",
    "for kind in results:\n",
    "    for lib in results[kind]:\n",
    "        vals = results[kind][lib]\n",
    "        results[kind][lib] = np.transpose(vals)"
   ]
  },
  {
   "cell_type": "code",
   "execution_count": null,
   "metadata": {},
   "outputs": [],
   "source": [
    "cpu_brand"
   ]
  },
  {
   "cell_type": "code",
   "execution_count": null,
   "metadata": {},
   "outputs": [],
   "source": [
    "for kind in results:\n",
    "    fig, ax = plt.subplots(1, 2, figsize=(8, 4), sharex=True, constrained_layout=True)\n",
    "    r = results[kind]\n",
    "    if \".plus.\" in kind:\n",
    "        plt.suptitle(\"(1 - z) \" + kind.replace(\".plus.\", \" + z \"))\n",
    "    else:\n",
    "        plt.suptitle(kind)\n",
    "    plt.sca(ax[0])\n",
    "    for lib, (x, y) in r.items():\n",
    "        plt.plot(x, y * 1e3, label=lib)\n",
    "    plt.ylabel(\"time [ms]\")\n",
    "    plt.legend(frameon=False)\n",
    "    plt.loglog()\n",
    "    plt.sca(ax[1])\n",
    "    x, y = r[\"ours\"]\n",
    "    y2 = r[\"scipy\"][1]\n",
    "    plt.plot(x, y2 / y, label=\"ours vs. scipy\")\n",
    "    par = \"ours:parallel,fastmath\"\n",
    "    if par in r:\n",
    "        x, y = r[par]\n",
    "        y2 = r[\"ours\"][1]\n",
    "        plt.plot(x, y2 / y, label=\"ours:parallel,fastmath vs. ours\")\n",
    "    plt.legend(frameon=False)\n",
    "    plt.axhline(1, ls=\"--\", zorder=0, color=\"0.5\")\n",
    "    plt.axhline(4, ls=\":\", zorder=0, color=\"0.5\")\n",
    "    plt.text(0.01, 4, \"4x\", transform=ax[1].get_yaxis_transform())\n",
    "    plt.ylabel(\"speed-up factor\")\n",
    "    plt.loglog()\n",
    "    fig.supxlabel(\"length of input array\")\n",
    "    plt.savefig(f\"{kind}.svg\")"
   ]
  }
 ],
 "metadata": {
  "kernelspec": {
   "display_name": "venv",
   "language": "python",
   "name": "python3"
  },
  "language_info": {
   "codemirror_mode": {
    "name": "ipython",
    "version": 3
   },
   "file_extension": ".py",
   "mimetype": "text/x-python",
   "name": "python",
   "nbconvert_exporter": "python",
   "pygments_lexer": "ipython3",
   "version": "3.10.11"
  },
  "orig_nbformat": 4
 },
 "nbformat": 4,
 "nbformat_minor": 2
}
